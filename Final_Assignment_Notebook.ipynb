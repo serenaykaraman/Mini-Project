{
 "cells": [
  {
   "cell_type": "markdown",
   "id": "27251f65",
   "metadata": {},
   "source": [
    "# Data Science Tools and Techniques"
   ]
  },
  {
   "cell_type": "markdown",
   "id": "301f9c31",
   "metadata": {},
   "source": [
    "## Introduction\n",
    "In this notebook, we will explore various tools and languages used in the field of Data Science. The notebook covers different libraries, tools, and languages commonly used for data analysis, machine learning, and data visualization."
   ]
  },
  {
   "cell_type": "markdown",
   "id": "57711379",
   "metadata": {},
   "source": [
    "## Data Science Languages\n",
    "Here are some of the commonly used programming languages in Data Science:\n",
    "\n",
    "1. Python\n",
    "2. R\n",
    "3. SQL\n",
    "4. Julia\n",
    "5. Scala"
   ]
  },
  {
   "cell_type": "markdown",
   "id": "62b7df74",
   "metadata": {},
   "source": [
    "## Data Science Libraries\n",
    "Some of the most popular libraries used in Data Science are:\n",
    "\n",
    "1. Pandas\n",
    "2. NumPy\n",
    "3. Scikit-learn\n",
    "4. TensorFlow\n",
    "5. Keras\n",
    "6. Matplotlib\n",
    "7. Seaborn\n",
    "8. ggplot"
   ]
  },
  {
   "cell_type": "markdown",
   "id": "a18df847",
   "metadata": {},
   "source": [
    "## Data Science Tools\n",
    "| Tool             | Purpose                             |\n",
    "|------------------|-------------------------------------|\n",
    "| Jupyter Notebook | Interactive coding and visualization |\n",
    "| RStudio          | R programming and data analysis     |\n",
    "| Tableau          | Data visualization                  |\n",
    "| GitHub           | Version control                     |\n",
    "| Apache Spark     | Big data processing                 |"
   ]
  },
  {
   "cell_type": "markdown",
   "id": "9a94797a",
   "metadata": {},
   "source": [
    "## Arithmetic Expression Examples\n",
    "In this section, we will demonstrate simple arithmetic expressions in Python."
   ]
  },
  {
   "cell_type": "code",
   "execution_count": null,
   "id": "35d1b330",
   "metadata": {},
   "outputs": [],
   "source": [
    "a = 5\n",
    "b = 10\n",
    "result = (a * b) + a\n",
    "result"
   ]
  },
  {
   "cell_type": "code",
   "execution_count": null,
   "id": "c434e512",
   "metadata": {},
   "outputs": [],
   "source": [
    "def convert_minutes_to_hours(minutes):\n",
    "    hours = minutes / 60\n",
    "    return hours\n",
    "\n",
    "# Example: Convert 120 minutes to hours\n",
    "convert_minutes_to_hours(120)"
   ]
  },
  {
   "cell_type": "markdown",
   "id": "2923a949",
   "metadata": {},
   "source": [
    "## Objectives\n",
    "- Understand the tools used in data science.\n",
    "- Learn the basic arithmetic operations in Python.\n",
    "- Explore various libraries and tools commonly used in data science."
   ]
  },
  {
   "cell_type": "markdown",
   "id": "e39b5607",
   "metadata": {},
   "source": [
    "## Author's Name\n",
    "This notebook was created by Yunusemre."
   ]
  }
 ],
 "metadata": {},
 "nbformat": 4,
 "nbformat_minor": 5
}
